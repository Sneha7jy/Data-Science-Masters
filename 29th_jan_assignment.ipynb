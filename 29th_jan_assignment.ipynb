{
 "cells": [
  {
   "cell_type": "markdown",
   "id": "b4ea1a7f-07c1-4b8d-b3c1-6e1b5c2e7a6a",
   "metadata": {
    "tags": []
   },
   "source": [
    "## 1.Who developed python programming language?"
   ]
  },
  {
   "cell_type": "markdown",
   "id": "4cd5c315-0327-41d4-a61d-5bc1ecf85182",
   "metadata": {},
   "source": [
    "Ans: Guido van Rossum"
   ]
  },
  {
   "cell_type": "markdown",
   "id": "73013575-eea6-4172-9a55-b34f3fece130",
   "metadata": {},
   "source": [
    "## 2.Which type of programmimg does python support?"
   ]
  },
  {
   "cell_type": "markdown",
   "id": "6eea950a-0d81-4d37-a2ae-afbfdfb5e1de",
   "metadata": {},
   "source": [
    "Ans: Python is a interpreted,object-oriented,high-level programming language with dynamic semantics.\n"
   ]
  },
  {
   "cell_type": "markdown",
   "id": "6382276f-8735-4eb6-8c2e-6d20717eeab7",
   "metadata": {},
   "source": [
    "## 3.Is python case sensitive when dealing with identifiers?"
   ]
  },
  {
   "cell_type": "markdown",
   "id": "626e38c5-ce3a-441b-a90c-7bcb3b9cecb7",
   "metadata": {},
   "source": [
    "Ans: yes"
   ]
  },
  {
   "cell_type": "markdown",
   "id": "d5173810-b06d-4b82-87b0-e49c0dd989cc",
   "metadata": {
    "tags": []
   },
   "source": [
    "## 4.What is the correct extension of the python file?\n"
   ]
  },
  {
   "cell_type": "markdown",
   "id": "413dca26-956a-45af-b354-50c4640c0362",
   "metadata": {},
   "source": [
    "Ans: .py"
   ]
  },
  {
   "cell_type": "markdown",
   "id": "ee97e395-e6b7-4297-925c-6739a5c23d95",
   "metadata": {
    "tags": []
   },
   "source": [
    "## 5. Is python code compiled or interpreted?"
   ]
  },
  {
   "cell_type": "markdown",
   "id": "957c992a-f620-4af2-b842-12e8cd62a847",
   "metadata": {},
   "source": [
    "Ans:Interpreted."
   ]
  },
  {
   "cell_type": "markdown",
   "id": "810bccae-1284-49c0-9209-bd20bff3e0f1",
   "metadata": {},
   "source": [
    "## 6. Name a few blocks of code used to define in python language? "
   ]
  },
  {
   "cell_type": "markdown",
   "id": "668437e4-b1e7-435c-9461-9284123b1473",
   "metadata": {},
   "source": [
    "Ans: A module, a function body, and a class definition. Each command typed interactively is a block."
   ]
  },
  {
   "cell_type": "markdown",
   "id": "9ec32049-7a18-4129-99c2-4716e9455a81",
   "metadata": {},
   "source": [
    "## 7.State a character used to give a single line comment?"
   ]
  },
  {
   "cell_type": "markdown",
   "id": "b836bdfa-f0b0-4072-9f48-980bc8e1a9c6",
   "metadata": {},
   "source": [
    "Ans: single # character."
   ]
  },
  {
   "cell_type": "markdown",
   "id": "4b5e59d0-4bd2-47d2-a8e5-5f384dd9037f",
   "metadata": {
    "tags": []
   },
   "source": [
    "## 8.Mention functions which can help us to find the version of python that we are currently working on?"
   ]
  },
  {
   "cell_type": "markdown",
   "id": "954f1581-3e70-4750-8323-5081bdc2c2e1",
   "metadata": {},
   "source": [
    "Ans: 1.Using sys.version method\n",
    "     2.Using python_version() function\n",
    "     3.Using Python -V command"
   ]
  },
  {
   "cell_type": "markdown",
   "id": "ea4ce19a-e221-40b2-8bab-5533f433ba6a",
   "metadata": {},
   "source": [
    "## 9. Python supports the creation of anonymous functions a rutime,using a construct called ________."
   ]
  },
  {
   "cell_type": "markdown",
   "id": "69fc95d0-9beb-40be-9ed8-2be4d7e73605",
   "metadata": {},
   "source": [
    "Ans:lambda"
   ]
  },
  {
   "cell_type": "markdown",
   "id": "a0aa9079-a5c9-4dba-9173-f01c9759018d",
   "metadata": {},
   "source": [
    "## 10. what does pip stand for python?"
   ]
  },
  {
   "cell_type": "markdown",
   "id": "7c2ae54d-693b-4627-8e1a-5eafae95625a",
   "metadata": {},
   "source": [
    "Ans: pip (an acronym of “pip Install Packages”) is today the standard tool for installing Python packages and their dependencies in a secure manner."
   ]
  },
  {
   "cell_type": "markdown",
   "id": "0ca032d6-0685-42fa-9fa3-94fa59868b86",
   "metadata": {
    "tags": []
   },
   "source": [
    "## 11.Mention a few built-in functions in python?"
   ]
  },
  {
   "cell_type": "markdown",
   "id": "a90d0816-5571-4c70-bdd8-65909004952d",
   "metadata": {},
   "source": [
    "|functios| Descriptions|\n",
    "|-----------|---------|\n",
    "|abs()          |\tReturns the absolute value of a number                           |\n",
    "|all()          |Returns True if all items in an iterable object are true            |\n",
    "|any()          |\tReturns True if any item in an iterable object is true           |\n",
    "|ascii()        |Returns a readable version of an object. Replaces none-ascii characters with escape character        |\n",
    "|bin()\t        |Returns the binary version of a number                              |\n",
    "|bool()\t        |Returns the boolean value of the specified object                   |\n",
    "|bytearray()\t|Returns an array of bytes                                           |\n",
    "|bytes()        |\tReturns a bytes object                                           |\n",
    "|callable()\t    | Returns True if the specified object is callable, otherwise False  |\n",
    "|chr()\t        |Returns a character from the specified Unicode code.                |\n",
    "|classmethod()\t|Converts a method into a class method                               |\n",
    "|compile()    \t|Returns the specified source as an object, ready to be executed     |\n",
    "|complex()  \t|Returns a complex number|\n",
    "|delattr() |Deletes the specified attribute (property or method) from the specified                    object |\n",
    "|dict()     \t|Returns a dictionary (Array)                                        |\n",
    "|dir()\t        |Returns a list of the specified object's properties and methods     |\n",
    "|divmod()\t    |Returns the quotient and the remainder when argument1 is divided by                       argument2                                                          |\n",
    "|enumerate()\t|Takes a collection (e.g. a tuple) and returns it as an enumerate                        object                                                              |\n",
    "|eval()\t        |Evaluates and executes an expression                                |\n",
    "|exec()\t        |Executes the specified code (or object)                             |\n",
    "|filter()\t    |Use a filter function to exclude items in an iterable object        |\n",
    "|float()\t    |Returns a floating point number                                     |\n",
    "|format()\t    |Formats a specified value                                           |\n",
    "|frozenset()\t|Returns a frozenset object                                          |\n",
    "|getattr()\t    |Returns the value of the specified attribute (property or method)   |\n",
    "|globals()\t    |Returns the current global symbol table as a dictionary             |\n",
    "|hasattr()|Returns True if the specified object has the specified attribute(property/method) |\n",
    "|hash()\t        |Returns the hash value of a specified object                        |\n",
    "|help() \t    |Executes the built-in help system                                   |\n",
    "|hex()\t        |Converts a number into a hexadecimal value                          |\n",
    "|id()\t        |Returns the id of an object                                         |\n",
    "|input()\t    |Allowing user input                                                 |\n",
    "|int()\t        |Returns an integer number|\n",
    "|isinstance()\t|Returns True if a specified object is an instance of a specified                        object                                                               |\n",
    "|issubclass()\t|Returns True if a specified class is a subclass of a specified object|\n",
    "|iter()\t        |Returns an iterator object                                           |\n",
    "|iter()\t        |Returns an iterator object                                           |\n",
    "|len()\t        |Returns the length of an object                                      |\n",
    "|list()\t        |Returns a list                                                       | \n",
    "|locals()\t    |Returns an updated dictionary of the current local symbol table      |\n",
    "|map()\t        |Returns the specified iterator with the specified function applied to                    each item                                                            |\n",
    "|max()      \t|Returns the largest item in an iterable                              |\n",
    "|memoryview()\t|Returns a memory view object                                         |\n",
    "|min()\t        |Returns the smallest item in an iterable                             |\n",
    "|next()\t        |Returns the next item in an iterable                                 |\n",
    "|object()    \t|Returns a new object                                                 |\n",
    "|oct()\t        |Converts a number into an octal                                      |\n",
    "|open()\t        |Opens a file and returns a file object                               |\n",
    "|ord()      \t|Convert an integer representing the Unicode of the specified                            character                                                            |\n",
    "|pow()\t        |Returns the value of x to the power of y                             |\n",
    "|print()    \t|Prints to the standard output device                                 |\n",
    "|property()\t|Gets, sets, deletes a property                                           |\n",
    "|range() |Returns a sequence of numbers, starting from 0 and increments by 1(by                   default)|\n",
    "|repr()\t        |Returns a readable version of an object                              |\n",
    "|reversed()\t    | Returns a reversed iterator                                         |\n",
    "|round()\t    |Rounds a numbers                                                     |\n",
    "|set()\t        |Returns a new set object                                             |\n",
    "|setattr()\t    |Sets an attribute (property/method) of an object                     |\n",
    "|slice()\t    |Returns a slice object                                               |\n",
    "|sorted()\t    |Returns a sorted list                                                |\n",
    "|staticmethod()\t|Converts a method into a static method                               |  |str()\t         |Returns a string object                                              |\n",
    "|sum()\t        |Sums the items of an iterator                                        |\n",
    "|super()        |Returns an object that represents the parent class                   |\n",
    "|tuple()        |Returns a tuple                                                      |\n",
    "|type()      \t|Returns the type of an object                                        |\n",
    "|vars()     \t|Returns the __dict__ property of an object                           |\n",
    "|zip()      \t|Returns an iterator, from two or more iterators                      |"
   ]
  },
  {
   "cell_type": "markdown",
   "id": "f34b7602-e4b1-4946-904e-c80e42d4010f",
   "metadata": {},
   "source": [
    "## 12. What is the maximum possible length of an identifier in python?"
   ]
  },
  {
   "cell_type": "markdown",
   "id": "a9e2097a-eb3e-49a8-af57-f1b419e8da77",
   "metadata": {},
   "source": [
    "Ans: An identifier can have a maximum length of 79 characters in Python."
   ]
  },
  {
   "cell_type": "markdown",
   "id": "cb5a8599-34b5-4f8b-9fe2-913db570d873",
   "metadata": {},
   "source": [
    "## 13.What are the benefits of using python?"
   ]
  },
  {
   "cell_type": "markdown",
   "id": "68b00400-3c66-4fc5-9efd-f7eb31765423",
   "metadata": {},
   "source": [
    "1. It has the following features that makes it very attractive for Rapid Application Development, as well as for use as a scripting or glue language to connect existing components together -high-level built in data structures,\n",
    "  * dynamic typing\n",
    "  * dynamic binding\n",
    "\n",
    "2. Python's simple, easy to learn syntax emphasizes on code readability with the use of whitespaces and therefore reduces the cost of program maintenance.\n",
    "\n",
    "3. Python supports modules and packages, which encourages program modularity and code reuse.\n",
    "\n",
    "4. The Python interpreter and the extensive standard library are available in source or binary form without charge for all major platforms, and can be freely distributed.\n",
    "\n",
    "5. Python is a great general-purpose programming language on its own, but with the help of a few popular libraries (numpy, scipy, matplotlib) it becomes a powerful environment for scientific computing."
   ]
  },
  {
   "cell_type": "markdown",
   "id": "be103155-b555-4c4e-b622-5ab883f0db0b",
   "metadata": {},
   "source": [
    "## 14. How is memory managed in python?"
   ]
  },
  {
   "cell_type": "markdown",
   "id": "e6864a8e-dbc4-4c23-bfcf-6d3cbbbd0bc6",
   "metadata": {},
   "source": [
    "Ans: Memory management in Python involves a private heap containing all Python objects and data structures. The management of this private heap is ensured internally by the Python memory manager."
   ]
  },
  {
   "cell_type": "markdown",
   "id": "ed8d4e5f-5180-4148-94c9-ba6a59ff7f34",
   "metadata": {},
   "source": [
    "## 15. How to install python on windows and set path variables?"
   ]
  },
  {
   "cell_type": "markdown",
   "id": "5a70e0f4-b662-4866-8262-737ec556f27c",
   "metadata": {},
   "source": [
    "Ans: \n",
    "* For installing python on windows -\n",
    " \n",
    " Open a browser to the Python website and download the Windows installer. 2. Double click on the downloaded file and install Python for all users, and ensure that Python is added to your path. Click on Install now to begin.\n",
    " \n",
    "* For setting path variables-\n",
    "1. Right click on My Computer and click on properties.\n",
    "2. Click on Advanced System settings\n",
    "3. Click on Environment Variable tab.\n",
    "4. Click on new tab of user variables.\n",
    "5. Write path in variable name\n",
    "6. Copy the path of Python folder.\n",
    "7. Paste path of Python in variable value.\n",
    "8. Click on Ok button.\n",
    "9. Click on Ok button:"
   ]
  },
  {
   "cell_type": "markdown",
   "id": "ef42b918-661d-4507-948a-2386ea39ed08",
   "metadata": {},
   "source": [
    "## 16. Is indentation required python?"
   ]
  },
  {
   "cell_type": "markdown",
   "id": "3e697043-4927-44fa-a89c-07e08f420b8a",
   "metadata": {},
   "source": [
    "Ans: Indentation is a very important concept of Python because without properly indenting the Python code, you will end up seeing IndentationError and the code will not get compiled."
   ]
  }
 ],
 "metadata": {
  "kernelspec": {
   "display_name": "Python 3 (ipykernel)",
   "language": "python",
   "name": "python3"
  },
  "language_info": {
   "codemirror_mode": {
    "name": "ipython",
    "version": 3
   },
   "file_extension": ".py",
   "mimetype": "text/x-python",
   "name": "python",
   "nbconvert_exporter": "python",
   "pygments_lexer": "ipython3",
   "version": "3.10.8"
  }
 },
 "nbformat": 4,
 "nbformat_minor": 5
}
